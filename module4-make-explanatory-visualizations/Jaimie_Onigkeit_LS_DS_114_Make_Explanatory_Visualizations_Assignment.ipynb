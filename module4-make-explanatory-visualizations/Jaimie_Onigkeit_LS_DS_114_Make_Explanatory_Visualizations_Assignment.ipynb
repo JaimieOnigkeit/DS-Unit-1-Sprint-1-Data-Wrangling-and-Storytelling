{
  "nbformat": 4,
  "nbformat_minor": 0,
  "metadata": {
    "colab": {
      "name": "Copy of LS_DS_114_Make_Explanatory_Visualizations_Assignment.ipynb",
      "provenance": [],
      "collapsed_sections": [],
      "include_colab_link": true
    },
    "language_info": {
      "codemirror_mode": {
        "name": "ipython",
        "version": 3
      },
      "file_extension": ".py",
      "mimetype": "text/x-python",
      "name": "python",
      "nbconvert_exporter": "python",
      "pygments_lexer": "ipython3",
      "version": "3.7.1"
    },
    "kernelspec": {
      "display_name": "Python 3",
      "language": "python",
      "name": "python3"
    }
  },
  "cells": [
    {
      "cell_type": "markdown",
      "metadata": {
        "id": "view-in-github",
        "colab_type": "text"
      },
      "source": [
        "<a href=\"https://colab.research.google.com/github/JaimieOnigkeit/DS-Unit-1-Sprint-1-Data-Wrangling-and-Storytelling/blob/master/module4-make-explanatory-visualizations/Jaimie_Onigkeit_LS_DS_114_Make_Explanatory_Visualizations_Assignment.ipynb\" target=\"_parent\"><img src=\"https://colab.research.google.com/assets/colab-badge.svg\" alt=\"Open In Colab\"/></a>"
      ]
    },
    {
      "cell_type": "markdown",
      "metadata": {
        "colab_type": "text",
        "id": "NMEswXWh9mqw"
      },
      "source": [
        "Lambda School Data Science\n",
        "\n",
        "*Unit 1, Sprint 1, Module 4*\n",
        "\n",
        "---\n",
        "\n",
        "# ASSIGNMENT\n",
        "\n",
        "### 1) Replicate the lesson code. I recommend that you [do not copy-paste](https://docs.google.com/document/d/1ubOw9B3Hfip27hF2ZFnW3a3z9xAgrUDRReOEo-FHCVs/edit).\n",
        "\n",
        "Get caught up to where we got our example in class and then try and take things further. How close to \"pixel perfect\" can you make the lecture graph?\n",
        "\n",
        "Once you have something that you're proud of, share your graph in the cohort channel and move on to the second exercise.\n",
        "\n",
        "### 2) Reproduce another example from [FiveThityEight's shared data repository](https://data.fivethirtyeight.com/).\n",
        "\n",
        "**WARNING**: There are a lot of very custom graphs and tables at the above link. I **highly** recommend not trying to reproduce any that look like a table of values or something really different from the graph types that we are already familiar with. Search through the posts until you find a graph type that you are more or less familiar with: histogram, bar chart, stacked bar chart, line chart, [seaborn relplot](https://seaborn.pydata.org/generated/seaborn.relplot.html), etc. Recreating some of the graphics that 538 uses would be a lot easier in Adobe photoshop/illustrator than with matplotlib. \n",
        "\n",
        "- If you put in some time to find a graph that looks \"easy\" to replicate you'll probably find that it's not as easy as you thought. \n",
        "\n",
        "- If you start with a graph that looks hard to replicate you'll probably run up against a brick wall and be disappointed with your afternoon.\n",
        "\n",
        "\n",
        "\n",
        "\n",
        "\n",
        "\n",
        "\n",
        "\n",
        "\n",
        "\n"
      ]
    },
    {
      "cell_type": "code",
      "metadata": {
        "id": "7SY1ZHawyZvz",
        "colab_type": "code",
        "colab": {}
      },
      "source": [
        "%matplotlib inline\n",
        "import pandas as pd\n",
        "import numpy as np\n",
        "import matplotlib.pyplot as plt\n",
        "from IPython.display import display, Image\n",
        "from matplotlib.ticker import AutoMinorLocator, MultipleLocator, FuncFormatter\n"
      ],
      "execution_count": 0,
      "outputs": []
    },
    {
      "cell_type": "markdown",
      "metadata": {
        "id": "sUrioxx1eMhZ",
        "colab_type": "text"
      },
      "source": [
        "## Lecture Replication"
      ]
    },
    {
      "cell_type": "code",
      "metadata": {
        "id": "OU9aP-ZWeS6F",
        "colab_type": "code",
        "colab": {
          "base_uri": "https://localhost:8080/",
          "height": 355
        },
        "outputId": "6c6febd2-ff18-4f9d-e2e8-9a0f034c3145"
      },
      "source": [
        "#Load the example graph\n",
        "url = 'https://fivethirtyeight.com/wp-content/uploads/2017/09/mehtahickey-inconvenient-0830-1.png'\n",
        "example = Image(url=url, width=400)\n",
        "\n",
        "display(example)"
      ],
      "execution_count": 23,
      "outputs": [
        {
          "output_type": "display_data",
          "data": {
            "text/html": [
              "<img src=\"https://fivethirtyeight.com/wp-content/uploads/2017/09/mehtahickey-inconvenient-0830-1.png\" width=\"400\"/>"
            ],
            "text/plain": [
              "<IPython.core.display.Image object>"
            ]
          },
          "metadata": {
            "tags": []
          }
        }
      ]
    },
    {
      "cell_type": "code",
      "metadata": {
        "id": "GkmuqMl6n45Y",
        "colab_type": "code",
        "colab": {
          "base_uri": "https://localhost:8080/",
          "height": 285
        },
        "outputId": "667628f8-b94c-45fb-f9a6-ae7fa707b14a"
      },
      "source": [
        "plt.style.use('fivethirtyeight')\n",
        "\n",
        "model = pd.Series([38, 3, 2, 1, 2, 4, 6, 5, 5, 33], \n",
        "                 index=range(1,11))\n",
        "\n",
        "model.plot.bar(color='C1', width=0.9);"
      ],
      "execution_count": 30,
      "outputs": [
        {
          "output_type": "display_data",
          "data": {
            "image/png": "[encoded data removed]",
            "text/plain": [
              "<Figure size 432x288 with 1 Axes>"
            ]
          },
          "metadata": {
            "tags": []
          }
        }
      ]
    },
    {
      "cell_type": "code",
      "metadata": {
        "id": "mGlS_AHpfTVG",
        "colab_type": "code",
        "colab": {
          "base_uri": "https://localhost:8080/",
          "height": 267
        },
        "outputId": "32adb6ae-810e-47d6-d403-d628702eaa92"
      },
      "source": [
        "#Load in the data\n",
        "inc_df = pd.Series(\n",
        "    [1, 1, 1, 1, 1, 1, 1, 1, 1, 1, 1, 1, 1, 1, 1, 1, 1, 1, 1, 1, 1, 1, 1, 1,\n",
        "     2, 2, 2, \n",
        "     3, 3, 3,\n",
        "     4, 4,\n",
        "     5, 5, 5,\n",
        "     6, 6, 6, 6,\n",
        "     7, 7, 7, 7, 7,\n",
        "     8, 8, 8, 8,\n",
        "     9, 9, 9, 9, \n",
        "     10, 10, 10, 10, 10, 10, 10, 10, 10, 10, 10, 10, 10, 10, 10, 10, 10, 10])\n",
        "\n",
        "inc_df.value_counts().sort_index().plot.bar(color='C1', width=0.9);"
      ],
      "execution_count": 24,
      "outputs": [
        {
          "output_type": "display_data",
          "data": {
            "image/png": "[encoded data removed]",
            "text/plain": [
              "<Figure size 432x288 with 1 Axes>"
            ]
          },
          "metadata": {
            "tags": []
          }
        }
      ]
    },
    {
      "cell_type": "code",
      "metadata": {
        "id": "SjypQxzphwYH",
        "colab_type": "code",
        "colab": {
          "base_uri": "https://localhost:8080/",
          "height": 342
        },
        "outputId": "19da89d7-1eb9-460c-93b6-539f5caa2ad9"
      },
      "source": [
        "# Set the Style Sheet for my graphs\n",
        "plt.style.use('fivethirtyeight')\n",
        "\n",
        "#Create my figure and axes variables\n",
        "fig, ax = plt.subplots()\n",
        "\n",
        "#Plot, color, and shape the bars\n",
        "ax.bar(x=[1,2,3,4,5,6,7,8,9,10], height=model, color='#ED713A', width=0.9)\n",
        "\n",
        "#Figure Background color\n",
        "fig.set_facecolor(color='None')\n",
        "\n",
        "#Axes background color\n",
        "ax.set_facecolor(color='None')\n",
        "\n",
        "#set x ticks\n",
        "ax.set_xticks(range(1,11,1))\n",
        "\n",
        "#set y ticks\n",
        "ax.set_yticks(range(0,50,10))\n",
        "\n",
        "#set y tick labels\n",
        "ax.set_yticklabels([0,10,20,30,'40%'], fontsize=9, color='#AEAEAE')\n",
        "\n",
        "#set x tick labels\n",
        "ax.set_xticklabels(range(1,11,1), fontsize=9, color='#AEAEAE')\n",
        "\n",
        "#remove left spines\n",
        "ax.spines['left'].set_visible(False)\n",
        "\n",
        "#remove right spines\n",
        "ax.spines['right'].set_visible(False)\n",
        "\n",
        "#set x label\n",
        "ax.set_xlabel('Rating', fontsize=10, fontweight=500)\n",
        "\n",
        "#set y label\n",
        "ax.set_ylabel('Percent of Total Votes', fontsize=10, fontweight=500)\n",
        "\n",
        "#set title\n",
        "ax.set_title(\"'An Inconvenient Sequel: Truth to Power' is divisive\",\n",
        "             fontsize=13, x=.37, y=1.15, fontweight='bold')\n",
        "\n",
        "#subtitle using the text method (not subtitle method)\n",
        "ax.text(s='IMDb ratings for the film as of Aug. 29', \n",
        "        y=44, x=-1.3, fontsize=12)\n",
        "\n",
        "#Change the grid color\n",
        "ax.grid(alpha=0.5)\n",
        "\n",
        "#Show the graph, squelch the return output\n",
        "plt.show()"
      ],
      "execution_count": 41,
      "outputs": [
        {
          "output_type": "display_data",
          "data": {
            "image/png": "[encoded data removed]",
            "text/plain": [
              "<Figure size 432x288 with 1 Axes>"
            ]
          },
          "metadata": {
            "tags": []
          }
        }
      ]
    },
    {
      "cell_type": "code",
      "metadata": {
        "id": "nqnaWxxRhwgt",
        "colab_type": "code",
        "colab": {
          "base_uri": "https://localhost:8080/",
          "height": 355
        },
        "outputId": "76e55a82-e8d8-40b1-dc9a-6a2c4d9e7e14"
      },
      "source": [
        "#Example for comparison\n",
        "display(example)"
      ],
      "execution_count": 9,
      "outputs": [
        {
          "output_type": "display_data",
          "data": {
            "text/html": [
              "<img src=\"https://fivethirtyeight.com/wp-content/uploads/2017/09/mehtahickey-inconvenient-0830-1.png\" width=\"400\"/>"
            ],
            "text/plain": [
              "<IPython.core.display.Image object>"
            ]
          },
          "metadata": {
            "tags": []
          }
        }
      ]
    },
    {
      "cell_type": "markdown",
      "metadata": {
        "id": "-C8HLlxNwEJa",
        "colab_type": "text"
      },
      "source": [
        "## New Graph\n",
        "I decided to use the graph in this article: https://fivethirtyeight.com/features/dear-mona-how-many-couples-sleep-in-separate-beds/"
      ]
    },
    {
      "cell_type": "code",
      "metadata": {
        "id": "PYZQ6laOwP8t",
        "colab_type": "code",
        "colab": {
          "base_uri": "https://localhost:8080/",
          "height": 946
        },
        "outputId": "0dd22769-bdb8-4971-97d8-f69cbd90c229"
      },
      "source": [
        "#Load the example graph\n",
        "url = 'https://fivethirtyeight.com/wp-content/uploads/2014/04/hickey-ross-tags-1.png?w=575'\n",
        "example1 = Image(url=url, width=600)\n",
        "\n",
        "display(example1)\n"
      ],
      "execution_count": 80,
      "outputs": [
        {
          "output_type": "display_data",
          "data": {
            "text/html": [
              "<img src=\"https://fivethirtyeight.com/wp-content/uploads/2014/04/hickey-ross-tags-1.png?w=575\" width=\"600\"/>"
            ],
            "text/plain": [
              "<IPython.core.display.Image object>"
            ]
          },
          "metadata": {
            "tags": []
          }
        }
      ]
    },
    {
      "cell_type": "code",
      "metadata": {
        "id": "-gY_4T76W-u9",
        "colab_type": "code",
        "colab": {
          "base_uri": "https://localhost:8080/",
          "height": 1000
        },
        "outputId": "ca91b34a-bbd3-48a2-a7a9-42663715f4cc"
      },
      "source": [
        "d = {'Feature': ['At least one tree', 'At least two trees', \n",
        "                  'Deciduous tree', 'Coniferous tree',\n",
        "                  'Clouds', 'At least one mountain', 'Grass',\n",
        "                  'Lake', 'River or stream', 'Bushes',\n",
        "                  'Snow-covered mountain', 'At least two mountains', 'Man-made structure',\n",
        "                  'Cumulus clouds', 'Rocks', 'Sun', 'Waterfall',\n",
        "                  'Snow', 'Cabin', 'Winter setting', 'Frame', 'Path',\n",
        "                  'Oval frame', 'Ocean', 'Waves', 'Beach', 'Cirrus clouds',\n",
        "                  'Fence', 'Fog', 'Hills', 'Barn', 'Nighttime', 'Flowers',\n",
        "                  'Palm tree', 'Cliff', 'Bridge'], \n",
        "      'Percentage':[91, 85, 56, 53, 44, 39, 36, 34,\n",
        "                    33, 30, 26, 24, 22, 21, 20, 20, \n",
        "                    20, 19, 18, 18, 13, 13, 9, 9, 9,\n",
        "                    7, 7, 6, 6, 4, 4, 3, 2, 2, 2, 2]}\n",
        "\n",
        "bob = pd.DataFrame(data = d)\n",
        "\n",
        "bob"
      ],
      "execution_count": 218,
      "outputs": [
        {
          "output_type": "execute_result",
          "data": {
            "text/html": [
              "<div>\n",
              "<style scoped>\n",
              "    .dataframe tbody tr th:only-of-type {\n",
              "        vertical-align: middle;\n",
              "    }\n",
              "\n",
              "    .dataframe tbody tr th {\n",
              "        vertical-align: top;\n",
              "    }\n",
              "\n",
              "    .dataframe thead th {\n",
              "        text-align: right;\n",
              "    }\n",
              "</style>\n",
              "<table border=\"1\" class=\"dataframe\">\n",
              "  <thead>\n",
              "    <tr style=\"text-align: right;\">\n",
              "      <th></th>\n",
              "      <th>Feature</th>\n",
              "      <th>Percentage</th>\n",
              "    </tr>\n",
              "  </thead>\n",
              "  <tbody>\n",
              "    <tr>\n",
              "      <th>0</th>\n",
              "      <td>At least one tree</td>\n",
              "      <td>91</td>\n",
              "    </tr>\n",
              "    <tr>\n",
              "      <th>1</th>\n",
              "      <td>At least two trees</td>\n",
              "      <td>85</td>\n",
              "    </tr>\n",
              "    <tr>\n",
              "      <th>2</th>\n",
              "      <td>Deciduous tree</td>\n",
              "      <td>56</td>\n",
              "    </tr>\n",
              "    <tr>\n",
              "      <th>3</th>\n",
              "      <td>Coniferous tree</td>\n",
              "      <td>53</td>\n",
              "    </tr>\n",
              "    <tr>\n",
              "      <th>4</th>\n",
              "      <td>Clouds</td>\n",
              "      <td>44</td>\n",
              "    </tr>\n",
              "    <tr>\n",
              "      <th>5</th>\n",
              "      <td>At least one mountain</td>\n",
              "      <td>39</td>\n",
              "    </tr>\n",
              "    <tr>\n",
              "      <th>6</th>\n",
              "      <td>Grass</td>\n",
              "      <td>36</td>\n",
              "    </tr>\n",
              "    <tr>\n",
              "      <th>7</th>\n",
              "      <td>Lake</td>\n",
              "      <td>34</td>\n",
              "    </tr>\n",
              "    <tr>\n",
              "      <th>8</th>\n",
              "      <td>River or stream</td>\n",
              "      <td>33</td>\n",
              "    </tr>\n",
              "    <tr>\n",
              "      <th>9</th>\n",
              "      <td>Bushes</td>\n",
              "      <td>30</td>\n",
              "    </tr>\n",
              "    <tr>\n",
              "      <th>10</th>\n",
              "      <td>Snow-covered mountain</td>\n",
              "      <td>26</td>\n",
              "    </tr>\n",
              "    <tr>\n",
              "      <th>11</th>\n",
              "      <td>At least two mountains</td>\n",
              "      <td>24</td>\n",
              "    </tr>\n",
              "    <tr>\n",
              "      <th>12</th>\n",
              "      <td>Man-made structure</td>\n",
              "      <td>22</td>\n",
              "    </tr>\n",
              "    <tr>\n",
              "      <th>13</th>\n",
              "      <td>Cumulus clouds</td>\n",
              "      <td>21</td>\n",
              "    </tr>\n",
              "    <tr>\n",
              "      <th>14</th>\n",
              "      <td>Rocks</td>\n",
              "      <td>20</td>\n",
              "    </tr>\n",
              "    <tr>\n",
              "      <th>15</th>\n",
              "      <td>Sun</td>\n",
              "      <td>20</td>\n",
              "    </tr>\n",
              "    <tr>\n",
              "      <th>16</th>\n",
              "      <td>Waterfall</td>\n",
              "      <td>20</td>\n",
              "    </tr>\n",
              "    <tr>\n",
              "      <th>17</th>\n",
              "      <td>Snow</td>\n",
              "      <td>19</td>\n",
              "    </tr>\n",
              "    <tr>\n",
              "      <th>18</th>\n",
              "      <td>Cabin</td>\n",
              "      <td>18</td>\n",
              "    </tr>\n",
              "    <tr>\n",
              "      <th>19</th>\n",
              "      <td>Winter setting</td>\n",
              "      <td>18</td>\n",
              "    </tr>\n",
              "    <tr>\n",
              "      <th>20</th>\n",
              "      <td>Frame</td>\n",
              "      <td>13</td>\n",
              "    </tr>\n",
              "    <tr>\n",
              "      <th>21</th>\n",
              "      <td>Path</td>\n",
              "      <td>13</td>\n",
              "    </tr>\n",
              "    <tr>\n",
              "      <th>22</th>\n",
              "      <td>Oval frame</td>\n",
              "      <td>9</td>\n",
              "    </tr>\n",
              "    <tr>\n",
              "      <th>23</th>\n",
              "      <td>Ocean</td>\n",
              "      <td>9</td>\n",
              "    </tr>\n",
              "    <tr>\n",
              "      <th>24</th>\n",
              "      <td>Waves</td>\n",
              "      <td>9</td>\n",
              "    </tr>\n",
              "    <tr>\n",
              "      <th>25</th>\n",
              "      <td>Beach</td>\n",
              "      <td>7</td>\n",
              "    </tr>\n",
              "    <tr>\n",
              "      <th>26</th>\n",
              "      <td>Cirrus clouds</td>\n",
              "      <td>7</td>\n",
              "    </tr>\n",
              "    <tr>\n",
              "      <th>27</th>\n",
              "      <td>Fence</td>\n",
              "      <td>6</td>\n",
              "    </tr>\n",
              "    <tr>\n",
              "      <th>28</th>\n",
              "      <td>Fog</td>\n",
              "      <td>6</td>\n",
              "    </tr>\n",
              "    <tr>\n",
              "      <th>29</th>\n",
              "      <td>Hills</td>\n",
              "      <td>4</td>\n",
              "    </tr>\n",
              "    <tr>\n",
              "      <th>30</th>\n",
              "      <td>Barn</td>\n",
              "      <td>4</td>\n",
              "    </tr>\n",
              "    <tr>\n",
              "      <th>31</th>\n",
              "      <td>Nighttime</td>\n",
              "      <td>3</td>\n",
              "    </tr>\n",
              "    <tr>\n",
              "      <th>32</th>\n",
              "      <td>Flowers</td>\n",
              "      <td>2</td>\n",
              "    </tr>\n",
              "    <tr>\n",
              "      <th>33</th>\n",
              "      <td>Palm tree</td>\n",
              "      <td>2</td>\n",
              "    </tr>\n",
              "    <tr>\n",
              "      <th>34</th>\n",
              "      <td>Cliff</td>\n",
              "      <td>2</td>\n",
              "    </tr>\n",
              "    <tr>\n",
              "      <th>35</th>\n",
              "      <td>Bridge</td>\n",
              "      <td>2</td>\n",
              "    </tr>\n",
              "  </tbody>\n",
              "</table>\n",
              "</div>"
            ],
            "text/plain": [
              "                   Feature  Percentage\n",
              "0        At least one tree          91\n",
              "1       At least two trees          85\n",
              "2           Deciduous tree          56\n",
              "3          Coniferous tree          53\n",
              "4                   Clouds          44\n",
              "5    At least one mountain          39\n",
              "6                    Grass          36\n",
              "7                     Lake          34\n",
              "8          River or stream          33\n",
              "9                   Bushes          30\n",
              "10   Snow-covered mountain          26\n",
              "11  At least two mountains          24\n",
              "12      Man-made structure          22\n",
              "13          Cumulus clouds          21\n",
              "14                   Rocks          20\n",
              "15                     Sun          20\n",
              "16               Waterfall          20\n",
              "17                    Snow          19\n",
              "18                   Cabin          18\n",
              "19          Winter setting          18\n",
              "20                   Frame          13\n",
              "21                    Path          13\n",
              "22              Oval frame           9\n",
              "23                   Ocean           9\n",
              "24                   Waves           9\n",
              "25                   Beach           7\n",
              "26           Cirrus clouds           7\n",
              "27                   Fence           6\n",
              "28                     Fog           6\n",
              "29                   Hills           4\n",
              "30                    Barn           4\n",
              "31               Nighttime           3\n",
              "32                 Flowers           2\n",
              "33               Palm tree           2\n",
              "34                   Cliff           2\n",
              "35                  Bridge           2"
            ]
          },
          "metadata": {
            "tags": []
          },
          "execution_count": 218
        }
      ]
    },
    {
      "cell_type": "code",
      "metadata": {
        "id": "WfV8IIFthpx3",
        "colab_type": "code",
        "colab": {
          "base_uri": "https://localhost:8080/",
          "height": 895
        },
        "outputId": "52f2e985-a657-4103-ec19-a49c3e6bf375"
      },
      "source": [
        "# Set the Style Sheet for my graphs\n",
        "plt.style.use('fivethirtyeight')\n",
        "\n",
        "#Create my figure and axes variables\n",
        "fig, ax = plt.subplots(figsize=(4.5,10))\n",
        "y_pos = np.arange(len(bob['Feature']))\n",
        "percent = bob['Percentage']\n",
        "\n",
        "#Plot, color, and shape the bars\n",
        "ax.barh(y_pos, percent, align='center', color='#008FD5')\n",
        "ax.invert_yaxis()\n",
        "\n",
        "#Figure Background color\n",
        "fig.set_facecolor(color='#F0F0F0')\n",
        "\n",
        "#Axes background color\n",
        "ax.set_facecolor(color ='#F0F0F0')\n",
        "\n",
        "#set y ticks\n",
        "ax.set_yticks(y_pos)\n",
        "\n",
        "#set y tick labels\n",
        "ax.set_yticklabels(bob['Feature'], \n",
        "                   fontsize=11,\n",
        "                   color= '#888888')\n",
        "\n",
        "\n",
        "#set x tick labels\n",
        "ax.set_xticklabels(\" \")\n",
        "\n",
        "#set title\n",
        "ax.set_title('The Paintings of Bob Ross',\n",
        "            fontsize=16, x=0,y=1,\n",
        "             color='#494949', fontweight='bold')\n",
        "\n",
        "#subtitle using the text method (not subtitle method)\n",
        "ax.text(s='Percentage containing each element',\n",
        "        fontsize=12, y=-1,x=-36,\n",
        "        color='#888888')\n",
        "\n",
        "#change the grid color\n",
        "ax.grid(color='None')\n",
        "\n",
        "#Show the graph, squelch the return output\n",
        "plt.show()"
      ],
      "execution_count": 274,
      "outputs": [
        {
          "output_type": "display_data",
          "data": {
            "image/png": "[encoded data removed]",
            "text/plain": [
              "<Figure size 450x1000 with 1 Axes>"
            ]
          },
          "metadata": {
            "tags": []
          }
        }
      ]
    },
    {
      "cell_type": "code",
      "metadata": {
        "id": "KTLmbK0nAWaM",
        "colab_type": "code",
        "colab": {
          "base_uri": "https://localhost:8080/",
          "height": 946
        },
        "outputId": "02ff2283-4184-47d3-b7bd-f8483a09ab25"
      },
      "source": [
        "display(example1)"
      ],
      "execution_count": 146,
      "outputs": [
        {
          "output_type": "display_data",
          "data": {
            "text/html": [
              "<img src=\"https://fivethirtyeight.com/wp-content/uploads/2014/04/hickey-ross-tags-1.png?w=575\" width=\"600\"/>"
            ],
            "text/plain": [
              "<IPython.core.display.Image object>"
            ]
          },
          "metadata": {
            "tags": []
          }
        }
      ]
    },
    {
      "cell_type": "markdown",
      "metadata": {
        "id": "H6hDpELix08C",
        "colab_type": "text"
      },
      "source": [
        "Okay, that's all I'm doing tonight. This one kicked my butt. \n",
        "I think I know how to add the tags on the end of each row (using ax.text?), but I'm worn out today. "
      ]
    },
    {
      "cell_type": "markdown",
      "metadata": {
        "id": "0wSrBzmJyWaV",
        "colab_type": "text"
      },
      "source": [
        "# STRETCH OPTIONS\n",
        "\n",
        "### 1) Reproduce one of the following using the matplotlib or seaborn libraries:\n",
        "\n",
        "- [thanksgiving-2015](https://fivethirtyeight.com/features/heres-what-your-part-of-america-eats-on-thanksgiving/) \n",
        "- [candy-power-ranking](https://fivethirtyeight.com/features/the-ultimate-halloween-candy-power-ranking/) \n",
        "- or another example of your choice!\n",
        "\n",
        "### 2) Make more charts!\n",
        "\n",
        "Choose a chart you want to make, from [Visual Vocabulary - Vega Edition](http://ft.com/vocabulary).\n",
        "\n",
        "Find the chart in an example gallery of a Python data visualization library:\n",
        "- [Seaborn](http://seaborn.pydata.org/examples/index.html)\n",
        "- [Altair](https://altair-viz.github.io/gallery/index.html)\n",
        "- [Matplotlib](https://matplotlib.org/gallery.html)\n",
        "- [Pandas](https://pandas.pydata.org/pandas-docs/stable/visualization.html)\n",
        "\n",
        "Reproduce the chart. [Optionally, try the \"Ben Franklin Method.\"](https://docs.google.com/document/d/1ubOw9B3Hfip27hF2ZFnW3a3z9xAgrUDRReOEo-FHCVs/edit) If you want, experiment and make changes.\n",
        "\n",
        "Take notes. Consider sharing your work with your cohort!"
      ]
    },
    {
      "cell_type": "code",
      "metadata": {
        "id": "dRJkKftiy5BJ",
        "colab_type": "code",
        "colab": {}
      },
      "source": [
        "# More Work Here"
      ],
      "execution_count": 0,
      "outputs": []
    }
  ]
}